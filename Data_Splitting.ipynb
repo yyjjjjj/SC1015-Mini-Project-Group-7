{
  "nbformat": 4,
  "nbformat_minor": 0,
  "metadata": {
    "colab": {
      "provenance": []
    },
    "kernelspec": {
      "name": "python3",
      "display_name": "Python 3"
    },
    "language_info": {
      "name": "python"
    }
  },
  "cells": [
    {
      "cell_type": "markdown",
      "source": [
        "# **Data Splitting**"
      ],
      "metadata": {
        "id": "VHQzF_feCurJ"
      }
    },
    {
      "cell_type": "code",
      "source": [
        "from sklearn.model_selection import train_test_split\n",
        "random_seed = 11\n",
        "\n",
        "# Extract Response and Predictors\n",
        "y = pd.DataFrame(df_cleaned['Obesity'])\n",
        "X = pd.DataFrame(df_cleaned[[\"family_ob_hist\", \"freq_high_cal_food\", \"phy_act_freq\", \"consumption_of_alcohol\"]])\n",
        "\n",
        "\n",
        "# Split the Dataset into Train and Test (0.75:0.25 ratio)\n",
        "X_train, X_test, y_train, y_test = train_test_split(X, y, test_size = 0.25, random_state=random_seed)\n",
        "\n",
        "#Save Train and Test Datasets as Csv Files\n",
        "X_train.to_csv('X_train.csv', index=False)\n",
        "X_test.to_csv('X_test.csv', index=False)\n",
        "y_train.to_csv('y_train.csv', index=False)\n",
        "y_test.to_csv('y_test.csv', index=False)"
      ],
      "metadata": {
        "id": "RHf_PE0yCwLw"
      },
      "execution_count": null,
      "outputs": []
    }
  ]
}