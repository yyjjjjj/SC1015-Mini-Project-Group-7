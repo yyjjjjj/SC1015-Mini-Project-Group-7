{
  "nbformat": 4,
  "nbformat_minor": 0,
  "metadata": {
    "colab": {
      "provenance": []
    },
    "kernelspec": {
      "name": "python3",
      "display_name": "Python 3"
    },
    "language_info": {
      "name": "python"
    }
  },
  "cells": [
    {
      "cell_type": "markdown",
      "source": [
        "# **Conclusion**"
      ],
      "metadata": {
        "id": "nhIZgrmYn-h5"
      }
    },
    {
      "cell_type": "markdown",
      "source": [
        "Both models gave similar rankings, with the top 2 rankings swapped.\n",
        "\n",
        "**Importance of Factors in contributing to Obesity (in descending order)**.\n",
        "\n",
        "1. Physical Activity Frequency\n",
        "2. Family Obesity History\n",
        "3. Consumption of Alcohol\n",
        "4. Frequent consumption of high caloric food\n",
        "\n"
      ],
      "metadata": {
        "id": "zr1cHufcFzC-"
      }
    },
    {
      "cell_type": "markdown",
      "source": [
        "**Data-Driven Insights**\n",
        "\n",
        "- Higher physical activity frequency lowers obesity risk most significantly.\n",
        "\n",
        "- A family history of obesity also has a strong impact on obesity risk.\n",
        "\n",
        "- Lower alcohol consumption reduces obesity risk, but only to a small extent.\n",
        "\n",
        "- Less frequent consumption of high-calorie foods lowers obesity risk to the smallest extent.\n",
        "\n",
        "**Implications on managing Obesity**\n",
        "\n",
        "1. The above suggest that the most effective solutions for reducing obesity risk are those that promote physical activity.\n",
        "\n",
        "- Community solutions: Develop more free or low-cost access to exercise spaces (parks, gyms).\n",
        "\n",
        "- Policy recommendations: Encourage daily activity through urban design (bike lanes, walkable areas) and workplace wellness programs.\n",
        "\n",
        "2. Addressing family history could also be important.\n",
        "\n",
        "- Early screening and targeted interventions should be offered to individuals with a family history of Obesity to enable early lifestyle changes, monitor health risks, and prevent obesity before it develops.\n",
        "\n",
        "- Genetic literacy can be promoted by healthcare professionals, government health agencies and schools etc to help individuals understand their risks and how to mitigate them through lifestyle changes.\n",
        "\n",
        "3. While not a primary factor, reducing alcohol can be part of a comprehensive obesity strategy.\n",
        "\n",
        "- Health Warnings in the form of Alcohol Beverage Labels and Stricter Ads Regulation on Alcohol Promotion could be implemented.\n",
        "\n",
        "4. Efforts should not over-prioritise food restriction alone; instead, promote balanced eating patterns.\n",
        "\n",
        "- Educational campaigns can suggest portion control, mindful eating, and reducing emotional eating triggers. This can be combined with increased physical activity.\n",
        "\n",
        "\n",
        "\n"
      ],
      "metadata": {
        "id": "Irm56CQbses-"
      }
    },
    {
      "cell_type": "markdown",
      "source": [
        "**Evaluation of the models**\n",
        "- Both Binary Decision Tree Classification and Random Forest Classification models have rather high classification accuracy of above 0.777, although Random Forest Classification has slightly higher classification accuracy of 0.805.\n",
        "\n",
        "\n",
        "---\n",
        "\n",
        "\n",
        "\n",
        "- Comparing the confusion matrixes for the Test Data for the Binary Decision Tree and Random Forest Classification, in Random Forest Classification (not best hyperparameters):\n",
        "1.  the number of True Negatives increased by 16 (out of 528 test data), ensuring swift action to be taken to lead a healthier lifestyle, reducing Obesity risk.\n",
        "2. the number of False Positives decreased by 16, reducing unnecessary worry for some who may have thought that they were Obese when they are not.\n",
        "3. the number of True Positives decreased by 24.\n",
        "4. Furthermore, the number of False Negatives increased by 24. As mentioned previously, False Negatives are particularly detrimental because they hinder detection of some Obese and hence, these Obese people do not immediately change their lifestyles to healthier ones because they are unaware that they are Obese. This poses health risks to this group of people.  \n",
        "\n",
        "\n",
        "\n",
        "---\n",
        "\n",
        "\n",
        "- Comparing the confusion matrixes for the Test Data for the Binary Decision Tree and Random Forest Classification, in Random Forest Classification (where the best hyperparamaters are used):\n",
        "\n",
        "1. the number of True Positives increased by 8 (out of 528 test data), ensuring swift action to be taken to lead a healthier lifestyle, reducing Obesity risk.\n",
        "2. the number of False Positives decreased by 8, reducing unnecessary worry for some who may have thought that they were Obese when they are not.\n",
        "3. the number of True Negatives decreased by 1.\n",
        "4. Furthermore, the number of False Negatives increased by 1.\n",
        "\n",
        "\n",
        "\n",
        "---\n",
        "\n",
        "- When the best hyperparameters are used for Random Forest Classification, the FNR dropped by 8% as compared to when the hyperparameters were not fine-tuned, leading to better detection of obese people.\n",
        "- While the models show comparable classification accuracy, Random Forest Classification demonstrates better balance between minimising incorrect classifications (FPs and FNs) and identifying TPs, thus Random Forest Classification can be considered slightly more effective than Binary Decision Tree Classification.\n",
        "\n",
        "\n",
        "\n",
        "\n"
      ],
      "metadata": {
        "id": "225y_vXDeEQa"
      }
    }
  ]
}