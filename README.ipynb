{
 "cells": [
  {
   "cell_type": "markdown",
   "metadata": {
    "id": "nwG0Y38XlqeT"
   },
   "source": [
    "**Welcome to Obesity Analysis Repository**\n",
    "---\n",
    "\n"
   ]
  },
  {
   "cell_type": "markdown",
   "metadata": {
    "id": "s4DOoIejl-a1",
    "jp-MarkdownHeadingCollapsed": true
   },
   "source": [
    "**About**\n",
    "---\n",
    "\n",
    "This Mini Project for SC1015 (Introduction to Data Science and Artificial Intelligence) focuses on factors that influence the obesity risk.\n",
    "\n",
    "1. Data Preparation and Cleaning\n",
    "2. Exploratory Data Analysis\n",
    "3. Machine Learning Techniques\n",
    "\n",
    "\n"
   ]
  },
  {
   "cell_type": "markdown",
   "metadata": {
    "id": "0-uqT47tm1cd"
   },
   "source": [
    "**Contributors**\n",
    "---\n",
    "- @yyjjjjj (Exploratory Data Analysis)\n",
    "- @nadyacheng ( MODEL 1)\n",
    "- @deleahtan (MODEL 2) \n"
   ]
  },
  {
   "cell_type": "markdown",
   "metadata": {
    "id": "QnzFZ6z0kppV"
   },
   "source": [
    "**Problem Definition**\n",
    "---\n",
    "1. Which factor(s) are the most important in predicting obesity?\n",
    "2. Which model does this best?"
   ]
  },
  {
   "cell_type": "markdown",
   "metadata": {},
   "source": [
    "**Models Used**\n",
    "---\n",
    "MODEL 1 NAME\n",
    "MODEL 2 NAME"
   ]
  },
  {
   "cell_type": "markdown",
   "metadata": {},
   "source": [
    "**Conclusions**\n",
    "---"
   ]
  },
  {
   "cell_type": "markdown",
   "metadata": {},
   "source": [
    "**References**\n",
    "---\n",
    "https://www.kaggle.com/datasets/mandysia/obesity-dataset-cleaned-and-data-sinthetic/data"
   ]
  }
 ],
 "metadata": {
  "colab": {
   "provenance": []
  },
  "kernelspec": {
   "display_name": "Python 3 (ipykernel)",
   "language": "python",
   "name": "python3"
  },
  "language_info": {
   "codemirror_mode": {
    "name": "ipython",
    "version": 3
   },
   "file_extension": ".py",
   "mimetype": "text/x-python",
   "name": "python",
   "nbconvert_exporter": "python",
   "pygments_lexer": "ipython3",
   "version": "3.12.4"
  }
 },
 "nbformat": 4,
 "nbformat_minor": 4
}
